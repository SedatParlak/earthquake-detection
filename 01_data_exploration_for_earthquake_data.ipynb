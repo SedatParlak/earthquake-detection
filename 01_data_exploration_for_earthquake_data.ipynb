{
  "nbformat": 4,
  "nbformat_minor": 0,
  "metadata": {
    "colab": {
      "provenance": [],
      "authorship_tag": "ABX9TyMUw1r+G16uz5Jo0fpS+jJK"
    },
    "kernelspec": {
      "name": "python3",
      "display_name": "Python 3"
    },
    "language_info": {
      "name": "python"
    }
  },
  "cells": [
    {
      "cell_type": "markdown",
      "source": [
        "# Download and extract earthquakes data for deep learning model"
      ],
      "metadata": {
        "id": "SYOwBad7ve70"
      }
    },
    {
      "cell_type": "markdown",
      "source": [
        "In this notebook, I will extract earthqaukes records from a complex file that includes thousands subdirectories and records. Earthquakes data belogs to 2022. And there are many different channels in the records but for my 3 channel tensors, I want to extract only BHE, BHN, BHZ records. Let's do it...  "
      ],
      "metadata": {
        "id": "iyt9CH-2x7-6"
      }
    },
    {
      "cell_type": "markdown",
      "source": [
        "## Import Libraries"
      ],
      "metadata": {
        "id": "0Tfu6Lbb6QGo"
      }
    },
    {
      "cell_type": "code",
      "execution_count": null,
      "metadata": {
        "id": "JpammBZdwf8G"
      },
      "outputs": [],
      "source": [
        "# Instalation ObsPy\n",
        "!pip install obspy"
      ]
    },
    {
      "cell_type": "code",
      "source": [
        "# Import Libraries\n",
        "import os\n",
        "import numpy as np\n",
        "import pandas as pd\n",
        "import matplotlib.pyplot as plt\n",
        "import obspy\n",
        "import warnings\n",
        "\n",
        "warnings.filterwarnings('ignore')"
      ],
      "metadata": {
        "id": "DXbEtwr7xGFD"
      },
      "execution_count": 25,
      "outputs": []
    },
    {
      "cell_type": "markdown",
      "source": [
        "## Data Exploration"
      ],
      "metadata": {
        "id": "iNhbrLtd6Tj8"
      }
    },
    {
      "cell_type": "code",
      "source": [
        "# Make a connection with Google Drive\n",
        "from google.colab import drive\n",
        "drive.mount('/content/drive')"
      ],
      "metadata": {
        "id": "f0AoD2rIB_hK",
        "colab": {
          "base_uri": "https://localhost:8080/"
        },
        "outputId": "c99c74c5-e770-4025-f6ad-306a0d07bcfe"
      },
      "execution_count": 5,
      "outputs": [
        {
          "output_type": "stream",
          "name": "stdout",
          "text": [
            "Mounted at /content/drive\n"
          ]
        }
      ]
    },
    {
      "cell_type": "code",
      "source": [
        "# Check out the earthquake files\n",
        "main_directories = os.listdir('/content/drive/MyDrive/eartquakes_records/2002')\n",
        "main_directories"
      ],
      "metadata": {
        "colab": {
          "base_uri": "https://localhost:8080/"
        },
        "id": "MpkLa8Uzt6Qa",
        "outputId": "3b1d6d84-7c52-4ae8-9b1b-3357bc3e43a6"
      },
      "execution_count": 16,
      "outputs": [
        {
          "output_type": "execute_result",
          "data": {
            "text/plain": [
              "['200204',\n",
              " '200205',\n",
              " '200206',\n",
              " '200207',\n",
              " '200208',\n",
              " '200209',\n",
              " '200210',\n",
              " '200211',\n",
              " '200212']"
            ]
          },
          "metadata": {},
          "execution_count": 16
        }
      ]
    },
    {
      "cell_type": "markdown",
      "source": [
        "First 4 digits indicate the year 2022 while the last 2 digits months. As you can see from the above output, you can see that we have data only from April to December. First 3 months are missing. But its okay right now. Lets explore the how much data we have for each subdirectories."
      ],
      "metadata": {
        "id": "RdjoZENAzr-8"
      }
    },
    {
      "cell_type": "code",
      "source": [
        "# Check out the first main subdirectory '200204'\n",
        "os.listdir(f'/content/drive/MyDrive/eartquakes_records/2002/{main_directories[0]}')"
      ],
      "metadata": {
        "id": "9JLI5LLg2Alr",
        "colab": {
          "base_uri": "https://localhost:8080/"
        },
        "outputId": "cab151e2-87c1-4e87-8068-53168598547d"
      },
      "execution_count": 19,
      "outputs": [
        {
          "output_type": "execute_result",
          "data": {
            "text/plain": [
              "['20020430_120855-KIZILIRMAK-(CANKIRI).M=3.6', '20020430_234100_MAN']"
            ]
          },
          "metadata": {},
          "execution_count": 19
        }
      ]
    },
    {
      "cell_type": "code",
      "source": [
        "# Check out the second main subdirectory '200205'\n",
        "os.listdir(f'/content/drive/MyDrive/eartquakes_records/2002/{main_directories[1]}')"
      ],
      "metadata": {
        "colab": {
          "base_uri": "https://localhost:8080/"
        },
        "id": "If9loHi22YTm",
        "outputId": "f1098e03-9f23-4200-b30c-00869b5fba71"
      },
      "execution_count": 20,
      "outputs": [
        {
          "output_type": "execute_result",
          "data": {
            "text/plain": [
              "['20020501_104500_MAN',\n",
              " '20020501_123300_MAN',\n",
              " '20020502_111300_MAN',\n",
              " '20020503_021800_MAN',\n",
              " '20020504_232600_MAN',\n",
              " '20020505_092100_MAN',\n",
              " '20020505_093900_MAN',\n",
              " '20020505_131200_MAN',\n",
              " '20020505_175300_MAN',\n",
              " '20020506_140800_MAN',\n",
              " '20020507_233000_MAN',\n",
              " '20020508_102300_MAN',\n",
              " '20020508_195600_MAN',\n",
              " '20020509_014900_MAN',\n",
              " '20020509_145200_MAN',\n",
              " '20020509_151800_MAN',\n",
              " '20020509_151900_MAN',\n",
              " '20020509_220100_MAN',\n",
              " '20020509_220200_MAN',\n",
              " '20020511_022700_MAN',\n",
              " '20020511_073800_MAN',\n",
              " '20020511_075200_MAN',\n",
              " '20020511_094000_MAN',\n",
              " '20020511_160900_MAN',\n",
              " '20020512_233300_MAN',\n",
              " '20020513_114200_MAN',\n",
              " '20020513_124800_MAN',\n",
              " '20020513_140600_MAN',\n",
              " '20020513_152700_MAN',\n",
              " '20020513_213900_MAN',\n",
              " '20020513_214000_MAN',\n",
              " '20020514_040700_MAN',\n",
              " '20020514_081200_MAN',\n",
              " '20020514_105800_MAN',\n",
              " '20020514_193200_MAN',\n",
              " '20020514_195400_MAN',\n",
              " '20020514_211900_MAN',\n",
              " '20020514_220100_MAN',\n",
              " '20020514_224100_MAN',\n",
              " '20020515_085400_MAN',\n",
              " '20020515_153500_MAN',\n",
              " '20020516_040500_MAN',\n",
              " '20020516_155400_MAN',\n",
              " '20020516_194200_MAN',\n",
              " '20020516_220600_MAN',\n",
              " '20020517_061600_MAN',\n",
              " '20020517_083300_MAN',\n",
              " '20020517_135800_MAN',\n",
              " '20020517_234400_MAN',\n",
              " '20020518_002500_MAN',\n",
              " '20020518_005400_MAN',\n",
              " '20020518_014400_MAN',\n",
              " '20020518_022700_MAN',\n",
              " '20020518_031300_MAN',\n",
              " '20020518_135800_MAN',\n",
              " '20020518_163500_MAN',\n",
              " '20020518_164300_MAN',\n",
              " '20020518_173700_MAN',\n",
              " '20020518_203900_MAN',\n",
              " '20020519_021300_MAN',\n",
              " '20020519_051100_MAN',\n",
              " '20020519_104500_MAN',\n",
              " '20020519_110700_MAN',\n",
              " '20020519_122100_MAN',\n",
              " '20020519_122600_MAN',\n",
              " '20020519_210600_MAN',\n",
              " '20020519_213200_MAN',\n",
              " '20020519_223200_MAN',\n",
              " '20020520_010800_MAN',\n",
              " '20020520_092600_MAN',\n",
              " '20020520_093600_MAN',\n",
              " '20020520_133300_MAN',\n",
              " '20020521_004100_MAN',\n",
              " '20020521_103600_MAN',\n",
              " '20020521_114500_MAN',\n",
              " '20020521_205400_MAN',\n",
              " '20020523_005300_MAN',\n",
              " '20020523_010800_MAN',\n",
              " '20020523_012500_MAN',\n",
              " '20020523_044800_MAN',\n",
              " '20020523_134400_MAN',\n",
              " '20020523_195100_MAN',\n",
              " '20020524_113600_MAN',\n",
              " '20020525_004500_MAN',\n",
              " '20020525_184300_MAN',\n",
              " '20020527_071300_MAN',\n",
              " '20020527_162600_MAN',\n",
              " '20020527_195500_MAN',\n",
              " '20020527_202100_MAN',\n",
              " '20020527_223000_MAN',\n",
              " '20020528_012600_MAN',\n",
              " '20020528_082600_MAN',\n",
              " '20020528_165600_MAN',\n",
              " '20020529_065930_MAN',\n",
              " '20020529_081200_MAN',\n",
              " '20020529_195300_MAN',\n",
              " '20020529_202400_MAN',\n",
              " '20020530_015900_MAN',\n",
              " '20020530_170600_MAN',\n",
              " '20020530_193800_MAN',\n",
              " '20020530_203000_MAN',\n",
              " '20020530_223100_MAN',\n",
              " '20020530_231400_MAN',\n",
              " '20020531_012800_MAN',\n",
              " '20020531_032500_MAN',\n",
              " '20020531_095900_MAN',\n",
              " '20020531_100200_MAN',\n",
              " '20020531_112400_MAN',\n",
              " '20020531_142200_MAN']"
            ]
          },
          "metadata": {},
          "execution_count": 20
        }
      ]
    },
    {
      "cell_type": "markdown",
      "source": [
        "Actually, there are some information in the subdirectory file names like below:\n",
        "\n",
        "![image.png](data:image/png;base64,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)"
      ],
      "metadata": {
        "id": "SNnpOOzL4cNj"
      }
    },
    {
      "cell_type": "code",
      "source": [
        "# How many subdirectory I have for each main subdirectory?\n",
        "for i in main_directories:\n",
        "  print(f\"Month: {i[-2:]},\\\n",
        "  Total subdirectories: {len(os.listdir(f'/content/drive/MyDrive/eartquakes_records/2002/{i}'))}\")"
      ],
      "metadata": {
        "colab": {
          "base_uri": "https://localhost:8080/"
        },
        "id": "bCfJoHgzxIcn",
        "outputId": "8890e249-0dff-42d2-cffa-0a996b06d3d0"
      },
      "execution_count": 43,
      "outputs": [
        {
          "output_type": "stream",
          "name": "stdout",
          "text": [
            "Month: 04,  Total subdirectories: 2\n",
            "Month: 05,  Total subdirectories: 109\n",
            "Month: 06,  Total subdirectories: 186\n",
            "Month: 07,  Total subdirectories: 230\n",
            "Month: 08,  Total subdirectories: 251\n",
            "Month: 09,  Total subdirectories: 242\n",
            "Month: 10,  Total subdirectories: 352\n",
            "Month: 11,  Total subdirectories: 321\n",
            "Month: 12,  Total subdirectories: 300\n"
          ]
        }
      ]
    },
    {
      "cell_type": "markdown",
      "source": [
        "Now, we are looking for the subdirectories but I wonder how much records we have for each months."
      ],
      "metadata": {
        "id": "Gvz2p0bd4C_4"
      }
    },
    {
      "cell_type": "code",
      "source": [
        "# Calculate the all files for the\n",
        "for i in main_directories:\n",
        "  # Get the subdirectories\n",
        "  sub_dirs = os.listdir(f'/content/drive/MyDrive/eartquakes_records/2002/{i}')\n",
        "  # Calculate the all file\n",
        "  total_records = sum([len(os.listdir(f'/content/drive/MyDrive/eartquakes_records/2002/{i}/{j}')) for j in sub_dirs])\n",
        "  print(f\"Month: {i[-2:]},\\\n",
        "  Total records: {total_records}\")"
      ],
      "metadata": {
        "colab": {
          "base_uri": "https://localhost:8080/"
        },
        "id": "oaDwiYAh8x1f",
        "outputId": "3f94c47f-a75a-43a4-90d7-ecd61e4d9997"
      },
      "execution_count": 44,
      "outputs": [
        {
          "output_type": "stream",
          "name": "stdout",
          "text": [
            "Month: 04,  Total records: 29\n",
            "Month: 05,  Total records: 1399\n",
            "Month: 06,  Total records: 1949\n",
            "Month: 07,  Total records: 2463\n",
            "Month: 08,  Total records: 3255\n",
            "Month: 09,  Total records: 2903\n",
            "Month: 10,  Total records: 4141\n",
            "Month: 11,  Total records: 4447\n",
            "Month: 12,  Total records: 2652\n"
          ]
        }
      ]
    },
    {
      "cell_type": "markdown",
      "source": [
        "Let's check out a subdirectory that includes some records."
      ],
      "metadata": {
        "id": "N9P6wSV-ApD3"
      }
    },
    {
      "cell_type": "code",
      "source": [
        "# Check out a sample subdir\n",
        "sample_subdir = os.listdir('/content/drive/MyDrive/eartquakes_records/2002/200205/20020508_195600_MAN')\n",
        "sample_subdir"
      ],
      "metadata": {
        "colab": {
          "base_uri": "https://localhost:8080/"
        },
        "id": "O8rv9efL3giJ",
        "outputId": "d7ee26cb-86e0-4103-8786-1a403261edc0"
      },
      "execution_count": 45,
      "outputs": [
        {
          "output_type": "execute_result",
          "data": {
            "text/plain": [
              "['YLVX.BHZ.KO',\n",
              " 'YLVX.BHN.KO',\n",
              " 'YLVX.BHE.KO',\n",
              " 'YLV.SHZ.KO',\n",
              " 'YER.SHZ.KO',\n",
              " 'VANB.BHZ.KO',\n",
              " 'VANB.BHN.KO',\n",
              " 'TOS.SHZ.KO',\n",
              " 'TOK.SHZ.KO',\n",
              " 'MYA.SHZ.KO',\n",
              " 'MUD.SHZ.KO',\n",
              " 'MRMX.BHZ.KO',\n",
              " 'MRMX.BHN.KO',\n",
              " 'MFTX.BHZ.KO',\n",
              " 'KVT.SHZ.KO',\n",
              " 'KON.SHZ.KO',\n",
              " 'KGT.SHZ.KO',\n",
              " 'CTTX.BHE.KO',\n",
              " 'CTT.SHZ.KO',\n",
              " 'CEY.SHZ.KO',\n",
              " 'BTM.SHZ.KO',\n",
              " 'BOY.SHZ.KO',\n",
              " 'BNN.SHZ.KO',\n",
              " 'BALB.BHZ.KO',\n",
              " 'BALB.BHN.KO',\n",
              " 'BNT.SHZ.KO',\n",
              " 'BALB.BHE.KO',\n",
              " 'ALT.SHZ.KO',\n",
              " 'ELL.SHZ.KO',\n",
              " 'GAZ.SHZ.KO',\n",
              " 'EDRB.BHN.KO',\n",
              " 'DST.SHZ.KO',\n",
              " 'GPA.SHZ.KO',\n",
              " 'HRT.SHZ.KO',\n",
              " 'CTTX.BHZ.KO',\n",
              " 'CTTX.BHN.KO',\n",
              " 'IZM.SHZ.KO',\n",
              " 'ISKB.BHN.KO',\n",
              " 'EDRB.BHZ.KO',\n",
              " 'ISKB.BHE.KO',\n",
              " 'HTY.SHZ.KO',\n",
              " 'KAM.SHZ.KO',\n",
              " 'ISKB.BHZ.KO']"
            ]
          },
          "metadata": {},
          "execution_count": 45
        }
      ]
    },
    {
      "cell_type": "markdown",
      "source": [
        "There are lots of data in here from different station and channels. But as I said before I want to get BHE, BHN and BHZ channels. Due to this, I need to walk through each subdirectory and extract the records. Then, I will save all of them another directory."
      ],
      "metadata": {
        "id": "XFmATNSa7-EU"
      }
    },
    {
      "cell_type": "code",
      "source": [
        "# Creating an empty list for BHE, BHN and BHZ\n",
        "all_b_channels = []\n",
        "\n",
        "# Calculate the all files for the\n",
        "for i in main_directories:\n",
        "  # Get the subdirectories\n",
        "  sub_dirs = os.listdir(f'/content/drive/MyDrive/eartquakes_records/2002/{i}')\n",
        "  # For loops for records\n",
        "  for j in sub_dirs:\n",
        "    records = os.listdir(f'/content/drive/MyDrive/eartquakes_records/2002/{i}/{j}')\n",
        "    # Get the BHZ, BHE and BHN channels\n",
        "    b_channels = [k for k in records if 'BHZ' in k or 'BHE' in k or 'BHN' in k]\n",
        "    # Creating default dictionary for grouping BHE, BHZ and BHN\n",
        "    grouped_data = defaultdict(list)\n",
        "    # For loop for grouping data\n",
        "    for item in b_channels:\n",
        "        prefix = item.split('.')[0]\n",
        "        grouped_data[prefix].append(f'/content/drive/MyDrive/eartquakes_records/2002/{i}/{j}/{item}')\n",
        "    results = [m for m in list(grouped_data.values()) if len(m) > 2]\n",
        "    if len(results) > 0:\n",
        "      for sub in results:\n",
        "        all_b_channels.append(sub)"
      ],
      "metadata": {
        "id": "SLA9e086naDo"
      },
      "execution_count": 119,
      "outputs": []
    },
    {
      "cell_type": "code",
      "source": [
        "# Check out the first 10 all_b_channels\n",
        "all_b_channels[:10]"
      ],
      "metadata": {
        "colab": {
          "base_uri": "https://localhost:8080/"
        },
        "id": "NQ9jLzpLtTbW",
        "outputId": "aa19bf04-af7b-4cb9-96ab-651fcc562c55"
      },
      "execution_count": 121,
      "outputs": [
        {
          "output_type": "execute_result",
          "data": {
            "text/plain": [
              "[['/content/drive/MyDrive/eartquakes_records/2002/200205/20020501_104500_MAN/YLVX.BHZ.KO',\n",
              "  '/content/drive/MyDrive/eartquakes_records/2002/200205/20020501_104500_MAN/YLVX.BHN.KO',\n",
              "  '/content/drive/MyDrive/eartquakes_records/2002/200205/20020501_104500_MAN/YLVX.BHE.KO'],\n",
              " ['/content/drive/MyDrive/eartquakes_records/2002/200205/20020504_232600_MAN/YLVX.BHZ.KO',\n",
              "  '/content/drive/MyDrive/eartquakes_records/2002/200205/20020504_232600_MAN/YLVX.BHN.KO',\n",
              "  '/content/drive/MyDrive/eartquakes_records/2002/200205/20020504_232600_MAN/YLVX.BHE.KO'],\n",
              " ['/content/drive/MyDrive/eartquakes_records/2002/200205/20020505_092100_MAN/YLVX.BHZ.KO',\n",
              "  '/content/drive/MyDrive/eartquakes_records/2002/200205/20020505_092100_MAN/YLVX.BHN.KO',\n",
              "  '/content/drive/MyDrive/eartquakes_records/2002/200205/20020505_092100_MAN/YLVX.BHE.KO'],\n",
              " ['/content/drive/MyDrive/eartquakes_records/2002/200205/20020505_092100_MAN/MRMX.BHZ.KO',\n",
              "  '/content/drive/MyDrive/eartquakes_records/2002/200205/20020505_092100_MAN/MRMX.BHN.KO',\n",
              "  '/content/drive/MyDrive/eartquakes_records/2002/200205/20020505_092100_MAN/MRMX.BHE.KO'],\n",
              " ['/content/drive/MyDrive/eartquakes_records/2002/200205/20020505_092100_MAN/ISKB.BHZ.KO',\n",
              "  '/content/drive/MyDrive/eartquakes_records/2002/200205/20020505_092100_MAN/ISKB.BHN.KO',\n",
              "  '/content/drive/MyDrive/eartquakes_records/2002/200205/20020505_092100_MAN/ISKB.BHE.KO'],\n",
              " ['/content/drive/MyDrive/eartquakes_records/2002/200205/20020505_092100_MAN/CTTX.BHZ.KO',\n",
              "  '/content/drive/MyDrive/eartquakes_records/2002/200205/20020505_092100_MAN/CTTX.BHN.KO',\n",
              "  '/content/drive/MyDrive/eartquakes_records/2002/200205/20020505_092100_MAN/CTTX.BHE.KO'],\n",
              " ['/content/drive/MyDrive/eartquakes_records/2002/200205/20020505_092100_MAN/BALB.BHZ.KO',\n",
              "  '/content/drive/MyDrive/eartquakes_records/2002/200205/20020505_092100_MAN/BALB.BHN.KO',\n",
              "  '/content/drive/MyDrive/eartquakes_records/2002/200205/20020505_092100_MAN/BALB.BHE.KO'],\n",
              " ['/content/drive/MyDrive/eartquakes_records/2002/200205/20020505_093900_MAN/YLVX.BHZ.KO',\n",
              "  '/content/drive/MyDrive/eartquakes_records/2002/200205/20020505_093900_MAN/YLVX.BHN.KO',\n",
              "  '/content/drive/MyDrive/eartquakes_records/2002/200205/20020505_093900_MAN/YLVX.BHE.KO'],\n",
              " ['/content/drive/MyDrive/eartquakes_records/2002/200205/20020505_093900_MAN/MRMX.BHZ.KO',\n",
              "  '/content/drive/MyDrive/eartquakes_records/2002/200205/20020505_093900_MAN/MRMX.BHN.KO',\n",
              "  '/content/drive/MyDrive/eartquakes_records/2002/200205/20020505_093900_MAN/MRMX.BHE.KO'],\n",
              " ['/content/drive/MyDrive/eartquakes_records/2002/200205/20020505_093900_MAN/MFTX.BHZ.KO',\n",
              "  '/content/drive/MyDrive/eartquakes_records/2002/200205/20020505_093900_MAN/MFTX.BHN.KO',\n",
              "  '/content/drive/MyDrive/eartquakes_records/2002/200205/20020505_093900_MAN/MFTX.BHE.KO']]"
            ]
          },
          "metadata": {},
          "execution_count": 121
        }
      ]
    },
    {
      "cell_type": "markdown",
      "source": [
        "In the end, we got all the B channels in a group for three directions. The next step is to store all records in an orderly format within a new directory."
      ],
      "metadata": {
        "id": "mu_DGUcju-L4"
      }
    },
    {
      "cell_type": "code",
      "source": [],
      "metadata": {
        "id": "QsgBJdaYM6WD"
      },
      "execution_count": null,
      "outputs": []
    }
  ]
}